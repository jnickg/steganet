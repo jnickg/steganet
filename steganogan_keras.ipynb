{
  "nbformat": 4,
  "nbformat_minor": 0,
  "metadata": {
    "language_info": {
      "codemirror_mode": {
        "name": "ipython",
        "version": 3
      },
      "file_extension": ".py",
      "mimetype": "text/x-python",
      "name": "python",
      "nbconvert_exporter": "python",
      "pygments_lexer": "ipython3",
      "version": "3.9.1"
    },
    "orig_nbformat": 2,
    "kernelspec": {
      "name": "python391jvsc74a57bd0397889a90461aa8b00f928f67a39c085e0a6ec16f6e050bbefed2486eeb85700",
      "display_name": "Python 3.9.1 64-bit (conda)"
    },
    "colab": {
      "name": "steganogan_keras.ipynb",
      "provenance": [],
      "collapsed_sections": [],
      "include_colab_link": true
    }
  },
  "cells": [
    {
      "cell_type": "markdown",
      "metadata": {
        "id": "view-in-github",
        "colab_type": "text"
      },
      "source": [
        "<a href=\"https://colab.research.google.com/github/jnickg/steganet/blob/main/steganogan_keras.ipynb\" target=\"_parent\"><img src=\"https://colab.research.google.com/assets/colab-badge.svg\" alt=\"Open In Colab\"/></a>"
      ]
    },
    {
      "cell_type": "markdown",
      "metadata": {
        "id": "qYnJJYUxbdua"
      },
      "source": [
        "Based on https://github.com/DAI-Lab/SteganoGAN/tree/master/steganogan"
      ]
    },
    {
      "cell_type": "code",
      "metadata": {
        "id": "YpeshPl1bdua"
      },
      "source": [
        "import tensorflow as tf\n",
        "from tensorflow import keras"
      ],
      "execution_count": 1,
      "outputs": []
    },
    {
      "cell_type": "code",
      "metadata": {
        "id": "QbnEM8Oubduh"
      },
      "source": [
        "from keras.layers import BatchNormalization\n",
        "from keras.layers import Conv2D\n",
        "from keras.layers import LeakyReLU\n",
        "\n",
        "def steganogan_conv2d_layer(layer_in, num_filters, kernel_size, name=None, normalize=True, activation_fn=LeakyReLU()):\n",
        "    model = Conv2D(num_filters, kernel_size, padding='same', activation=activation_fn, name=name)(layer_in)\n",
        "    if normalize:\n",
        "        normalize_name = f'{name}_normalize' if name is not None else None\n",
        "        model = BatchNormalization(name=normalize_name)(model)\n",
        "    return model"
      ],
      "execution_count": 2,
      "outputs": []
    },
    {
      "cell_type": "code",
      "metadata": {
        "id": "H2mhSvCYbdui"
      },
      "source": [
        "from keras.layers import Input\n",
        "from keras.layers import Concatenate\n",
        "from keras.layers import Add\n",
        "from keras.activations import sigmoid\n",
        "\n",
        "def steganogan_encoder_dense_model(W, H, D):\n",
        "    \"\"\"\n",
        "    The BasicEncoder module takes an cover image and a data tensor and combines\n",
        "    them into a steganographic image.\n",
        "    Input: (N, 3, H, W), (N, D, H, W)\n",
        "    Output: (N, 3, H, W)\n",
        "    \"\"\"\n",
        "    input_image = Input(shape=(W, H, 3), name=f'image{W}x{H}x{3}')\n",
        "    input_data  = Input(shape=(W, H, D), name=f'data{W}x{H}x{D}')\n",
        "\n",
        "    image_preprocess = steganogan_conv2d_layer(input_image, 32, 3, name='image_preprocess')\n",
        "\n",
        "    image_data_process_1_in = Concatenate(name='image_data_process_1_in')([image_preprocess, input_data])\n",
        "    image_data_process_1 = steganogan_conv2d_layer(image_data_process_1_in, 32, 3, name='image_data_process_1')\n",
        "\n",
        "    image_data_process_2_in = Concatenate(name='image_data_process_2_in')([image_preprocess, image_data_process_1, input_data])\n",
        "    image_data_process_2 = steganogan_conv2d_layer(image_data_process_2_in, 32, 3, name='image_data_process_2')\n",
        "\n",
        "    encoder_in = Concatenate(name='encoder_in')([image_preprocess, image_data_process_1, image_data_process_2, input_data])\n",
        "    encoder = steganogan_conv2d_layer(encoder_in, 3, 3, name='encoder', normalize=False, activation_fn=sigmoid)\n",
        "\n",
        "    encoder_out = Add(name='encoder_out')([input_image, encoder])\n",
        "\n",
        "    return ([input_image, input_data], encoder_out)"
      ],
      "execution_count": 3,
      "outputs": []
    },
    {
      "cell_type": "code",
      "metadata": {
        "colab": {
          "base_uri": "https://localhost:8080/"
        },
        "id": "MF18XAt_bdui",
        "outputId": "b11d2d8c-a499-49ed-eb60-e8fab1972733"
      },
      "source": [
        "from keras.models import Model\n",
        "\n",
        "my_W = 128\n",
        "my_H = 128\n",
        "my_D = 2\n",
        "steganofan_encoder_ins, steganofan_encoder_outs = steganogan_encoder_dense_model(my_W, my_H, my_D)\n",
        "\n",
        "steganogan_encoder = Model(steganofan_encoder_ins, steganofan_encoder_outs, name='steganogan_encoder')\n",
        "steganogan_encoder.summary()"
      ],
      "execution_count": 4,
      "outputs": [
        {
          "output_type": "stream",
          "text": [
            "Model: \"steganogan_encoder\"\n",
            "__________________________________________________________________________________________________\n",
            "Layer (type)                    Output Shape         Param #     Connected to                     \n",
            "==================================================================================================\n",
            "image128x128x3 (InputLayer)     [(None, 128, 128, 3) 0                                            \n",
            "__________________________________________________________________________________________________\n",
            "image_preprocess (Conv2D)       (None, 128, 128, 32) 896         image128x128x3[0][0]             \n",
            "__________________________________________________________________________________________________\n",
            "image_preprocess_normalize (Bat (None, 128, 128, 32) 128         image_preprocess[0][0]           \n",
            "__________________________________________________________________________________________________\n",
            "data128x128x2 (InputLayer)      [(None, 128, 128, 2) 0                                            \n",
            "__________________________________________________________________________________________________\n",
            "image_data_process_1_in (Concat (None, 128, 128, 34) 0           image_preprocess_normalize[0][0] \n",
            "                                                                 data128x128x2[0][0]              \n",
            "__________________________________________________________________________________________________\n",
            "image_data_process_1 (Conv2D)   (None, 128, 128, 32) 9824        image_data_process_1_in[0][0]    \n",
            "__________________________________________________________________________________________________\n",
            "image_data_process_1_normalize  (None, 128, 128, 32) 128         image_data_process_1[0][0]       \n",
            "__________________________________________________________________________________________________\n",
            "image_data_process_2_in (Concat (None, 128, 128, 66) 0           image_preprocess_normalize[0][0] \n",
            "                                                                 image_data_process_1_normalize[0]\n",
            "                                                                 data128x128x2[0][0]              \n",
            "__________________________________________________________________________________________________\n",
            "image_data_process_2 (Conv2D)   (None, 128, 128, 32) 19040       image_data_process_2_in[0][0]    \n",
            "__________________________________________________________________________________________________\n",
            "image_data_process_2_normalize  (None, 128, 128, 32) 128         image_data_process_2[0][0]       \n",
            "__________________________________________________________________________________________________\n",
            "encoder_in (Concatenate)        (None, 128, 128, 98) 0           image_preprocess_normalize[0][0] \n",
            "                                                                 image_data_process_1_normalize[0]\n",
            "                                                                 image_data_process_2_normalize[0]\n",
            "                                                                 data128x128x2[0][0]              \n",
            "__________________________________________________________________________________________________\n",
            "encoder (Conv2D)                (None, 128, 128, 3)  2649        encoder_in[0][0]                 \n",
            "__________________________________________________________________________________________________\n",
            "encoder_out (Add)               (None, 128, 128, 3)  0           image128x128x3[0][0]             \n",
            "                                                                 encoder[0][0]                    \n",
            "==================================================================================================\n",
            "Total params: 32,793\n",
            "Trainable params: 32,601\n",
            "Non-trainable params: 192\n",
            "__________________________________________________________________________________________________\n"
          ],
          "name": "stdout"
        }
      ]
    },
    {
      "cell_type": "code",
      "metadata": {
        "id": "kkUkzdhUbduj"
      },
      "source": [
        "def steganogan_decoder_dense_model(W, H, D, input=None):\n",
        "    \"\"\"\n",
        "    The DenseDecoder module takes an steganographic image and attempts to decode\n",
        "    the embedded data tensor.\n",
        "    Input: (N, 3, H, W)\n",
        "    Output: (N, D, H, W)\n",
        "    \"\"\"\n",
        "    if input is None:\n",
        "        input = Input(shape=(W, H, 3), name=f'cover_image{W}x{H}x{3}')\n",
        "    decode_1 = steganogan_conv2d_layer(input, 32, 3, name='decode_1')\n",
        "\n",
        "    decode_2 = steganogan_conv2d_layer(decode_1, 32, 3, name='decode_2')\n",
        "\n",
        "    decode_3_in = Concatenate(name='decode_3_in')([decode_1, decode_2])\n",
        "    decode_3 = steganogan_conv2d_layer(decode_3_in, 32, 3, name='decode_3')\n",
        "\n",
        "    decoder_in = Concatenate(name='decoder_in')([decode_1, decode_2, decode_3])\n",
        "    decoder = steganogan_conv2d_layer(decoder_in, D, 3, name='decoder', normalize=False, activation_fn=sigmoid)\n",
        "\n",
        "    return decoder"
      ],
      "execution_count": 5,
      "outputs": []
    },
    {
      "cell_type": "code",
      "metadata": {
        "colab": {
          "base_uri": "https://localhost:8080/"
        },
        "id": "B-__oy6hbduj",
        "outputId": "570bd702-f589-41a9-a0ef-f17795086742"
      },
      "source": [
        "decoder_outs = steganogan_decoder_dense_model(my_W, my_H, my_D, input=steganofan_encoder_outs)\n",
        "\n",
        "steganogan_full = Model(steganofan_encoder_ins, decoder_outs, name='steganogan_full')\n",
        "steganogan_full.summary()"
      ],
      "execution_count": 6,
      "outputs": [
        {
          "output_type": "stream",
          "text": [
            "Model: \"steganogan_full\"\n",
            "__________________________________________________________________________________________________\n",
            "Layer (type)                    Output Shape         Param #     Connected to                     \n",
            "==================================================================================================\n",
            "image128x128x3 (InputLayer)     [(None, 128, 128, 3) 0                                            \n",
            "__________________________________________________________________________________________________\n",
            "image_preprocess (Conv2D)       (None, 128, 128, 32) 896         image128x128x3[0][0]             \n",
            "__________________________________________________________________________________________________\n",
            "image_preprocess_normalize (Bat (None, 128, 128, 32) 128         image_preprocess[0][0]           \n",
            "__________________________________________________________________________________________________\n",
            "data128x128x2 (InputLayer)      [(None, 128, 128, 2) 0                                            \n",
            "__________________________________________________________________________________________________\n",
            "image_data_process_1_in (Concat (None, 128, 128, 34) 0           image_preprocess_normalize[0][0] \n",
            "                                                                 data128x128x2[0][0]              \n",
            "__________________________________________________________________________________________________\n",
            "image_data_process_1 (Conv2D)   (None, 128, 128, 32) 9824        image_data_process_1_in[0][0]    \n",
            "__________________________________________________________________________________________________\n",
            "image_data_process_1_normalize  (None, 128, 128, 32) 128         image_data_process_1[0][0]       \n",
            "__________________________________________________________________________________________________\n",
            "image_data_process_2_in (Concat (None, 128, 128, 66) 0           image_preprocess_normalize[0][0] \n",
            "                                                                 image_data_process_1_normalize[0]\n",
            "                                                                 data128x128x2[0][0]              \n",
            "__________________________________________________________________________________________________\n",
            "image_data_process_2 (Conv2D)   (None, 128, 128, 32) 19040       image_data_process_2_in[0][0]    \n",
            "__________________________________________________________________________________________________\n",
            "image_data_process_2_normalize  (None, 128, 128, 32) 128         image_data_process_2[0][0]       \n",
            "__________________________________________________________________________________________________\n",
            "encoder_in (Concatenate)        (None, 128, 128, 98) 0           image_preprocess_normalize[0][0] \n",
            "                                                                 image_data_process_1_normalize[0]\n",
            "                                                                 image_data_process_2_normalize[0]\n",
            "                                                                 data128x128x2[0][0]              \n",
            "__________________________________________________________________________________________________\n",
            "encoder (Conv2D)                (None, 128, 128, 3)  2649        encoder_in[0][0]                 \n",
            "__________________________________________________________________________________________________\n",
            "encoder_out (Add)               (None, 128, 128, 3)  0           image128x128x3[0][0]             \n",
            "                                                                 encoder[0][0]                    \n",
            "__________________________________________________________________________________________________\n",
            "decode_1 (Conv2D)               (None, 128, 128, 32) 896         encoder_out[0][0]                \n",
            "__________________________________________________________________________________________________\n",
            "decode_1_normalize (BatchNormal (None, 128, 128, 32) 128         decode_1[0][0]                   \n",
            "__________________________________________________________________________________________________\n",
            "decode_2 (Conv2D)               (None, 128, 128, 32) 9248        decode_1_normalize[0][0]         \n",
            "__________________________________________________________________________________________________\n",
            "decode_2_normalize (BatchNormal (None, 128, 128, 32) 128         decode_2[0][0]                   \n",
            "__________________________________________________________________________________________________\n",
            "decode_3_in (Concatenate)       (None, 128, 128, 64) 0           decode_1_normalize[0][0]         \n",
            "                                                                 decode_2_normalize[0][0]         \n",
            "__________________________________________________________________________________________________\n",
            "decode_3 (Conv2D)               (None, 128, 128, 32) 18464       decode_3_in[0][0]                \n",
            "__________________________________________________________________________________________________\n",
            "decode_3_normalize (BatchNormal (None, 128, 128, 32) 128         decode_3[0][0]                   \n",
            "__________________________________________________________________________________________________\n",
            "decoder_in (Concatenate)        (None, 128, 128, 96) 0           decode_1_normalize[0][0]         \n",
            "                                                                 decode_2_normalize[0][0]         \n",
            "                                                                 decode_3_normalize[0][0]         \n",
            "__________________________________________________________________________________________________\n",
            "decoder (Conv2D)                (None, 128, 128, 2)  1730        decoder_in[0][0]                 \n",
            "==================================================================================================\n",
            "Total params: 63,515\n",
            "Trainable params: 63,131\n",
            "Non-trainable params: 384\n",
            "__________________________________________________________________________________________________\n"
          ],
          "name": "stdout"
        }
      ]
    },
    {
      "cell_type": "code",
      "metadata": {
        "id": "1r2ozQ7mbduj"
      },
      "source": [
        "from keras.layers import AveragePooling2D\n",
        "\n",
        "def steganogan_critic_model(W, H, D):\n",
        "    \"\"\"\n",
        "    The BasicCritic module takes an image and predicts whether it is a cover\n",
        "    image or a steganographic image (N, 1).\n",
        "    Input: (N, 3, H, W)\n",
        "    Output: (N, 1)\n",
        "    \"\"\"\n",
        "    model_in = Input(shape=(W, H, 3), name=f'image{W}x{H}x{3}')\n",
        "    model = steganogan_conv2d_layer(model_in, 32, 3, name='conv_1')\n",
        "    model = steganogan_conv2d_layer(model, 32, 3, name='conv_2')\n",
        "    model = steganogan_conv2d_layer(model, 32, 3, name='conv_3')\n",
        "    model = steganogan_conv2d_layer(model, 32, 3, name='conv_4', normalize=False, activation_fn=sigmoid)\n",
        "    model = AveragePooling2D(name='mean')(model)\n",
        "    return model_in, model"
      ],
      "execution_count": 7,
      "outputs": []
    },
    {
      "cell_type": "code",
      "metadata": {
        "colab": {
          "base_uri": "https://localhost:8080/"
        },
        "id": "2rQzZkwJbduk",
        "outputId": "e49366ef-4714-43bf-b1cb-392661b3582e"
      },
      "source": [
        "#\n",
        "# These probably need to be re-made as classes in order to properly\n",
        "# behave as described in the paper. Subclass keras.Model\n",
        "#\n",
        "\n",
        "critic_in, critic_out = steganogan_critic_model(my_W, my_H, my_D)\n",
        "\n",
        "steganogan_critic = Model(critic_in, critic_out, name='steganogan_critic')\n",
        "steganogan_critic.summary()"
      ],
      "execution_count": 8,
      "outputs": [
        {
          "output_type": "stream",
          "text": [
            "Model: \"steganogan_critic\"\n",
            "_________________________________________________________________\n",
            "Layer (type)                 Output Shape              Param #   \n",
            "=================================================================\n",
            "image128x128x3 (InputLayer)  [(None, 128, 128, 3)]     0         \n",
            "_________________________________________________________________\n",
            "conv_1 (Conv2D)              (None, 128, 128, 32)      896       \n",
            "_________________________________________________________________\n",
            "conv_1_normalize (BatchNorma (None, 128, 128, 32)      128       \n",
            "_________________________________________________________________\n",
            "conv_2 (Conv2D)              (None, 128, 128, 32)      9248      \n",
            "_________________________________________________________________\n",
            "conv_2_normalize (BatchNorma (None, 128, 128, 32)      128       \n",
            "_________________________________________________________________\n",
            "conv_3 (Conv2D)              (None, 128, 128, 32)      9248      \n",
            "_________________________________________________________________\n",
            "conv_3_normalize (BatchNorma (None, 128, 128, 32)      128       \n",
            "_________________________________________________________________\n",
            "conv_4 (Conv2D)              (None, 128, 128, 32)      9248      \n",
            "_________________________________________________________________\n",
            "mean (AveragePooling2D)      (None, 64, 64, 32)        0         \n",
            "=================================================================\n",
            "Total params: 29,024\n",
            "Trainable params: 28,832\n",
            "Non-trainable params: 192\n",
            "_________________________________________________________________\n"
          ],
          "name": "stdout"
        }
      ]
    },
    {
      "cell_type": "code",
      "metadata": {
        "id": "sN2shQO2bduk"
      },
      "source": [
        "#"
      ],
      "execution_count": 9,
      "outputs": []
    }
  ]
}