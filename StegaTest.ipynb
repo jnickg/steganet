{
  "nbformat": 4,
  "nbformat_minor": 0,
  "metadata": {
    "colab": {
      "name": "StegaTest.ipynb",
      "provenance": [],
      "collapsed_sections": [],
      "mount_file_id": "1wQKhMrBG7sxzXDdmwIbLn11a0bR_KYMf",
      "authorship_tag": "ABX9TyOkRtUEpMb72T/7ZoBUq1tt",
      "include_colab_link": true
    },
    "kernelspec": {
      "name": "python3",
      "display_name": "Python 3"
    },
    "language_info": {
      "name": "python"
    },
    "accelerator": "GPU"
  },
  "cells": [
    {
      "cell_type": "markdown",
      "metadata": {
        "id": "view-in-github",
        "colab_type": "text"
      },
      "source": [
        "<a href=\"https://colab.research.google.com/github/jnickg/steganet/blob/main/StegaTest.ipynb\" target=\"_parent\"><img src=\"https://colab.research.google.com/assets/colab-badge.svg\" alt=\"Open In Colab\"/></a>"
      ]
    },
    {
      "cell_type": "code",
      "metadata": {
        "id": "bE68-s1mg026"
      },
      "source": [
        "# You will need to restart your runtime after running this cell\n",
        "!pip install steganogan\n",
        "import numpy as np\n",
        "from steganogan import SteganoGAN "
      ],
      "execution_count": null,
      "outputs": []
    },
    {
      "cell_type": "code",
      "metadata": {
        "id": "Kmi-f6OGhs1v"
      },
      "source": [
        "from steganogan import SteganoGAN\n",
        "import numpy as np\n",
        "import os\n",
        "from steganogan.loader import DataLoader\n",
        "from steganogan.encoders import BasicEncoder\n",
        "from steganogan.decoders import BasicDecoder\n",
        "from steganogan.critics import BasicCritic\n",
        "\n",
        "# Create a directory to store div2k data\n",
        "# path = '/content/drive/MyDrive/Colab Notebooks/div2k'\n",
        "# os.mkdir(path)\n",
        "\n",
        "#!wget http://data.vision.ee.ethz.ch/cvl/DIV2K/DIV2K_valid_HR.zip\n",
        "#!wget http://data.vision.ee.ethz.ch/cvl/DIV2K/DIV2K_train_HR.zip\n"
      ],
      "execution_count": null,
      "outputs": []
    },
    {
      "cell_type": "code",
      "metadata": {
        "id": "09pabLEPiWsC"
      },
      "source": [
        "# Important! Place these folders in separate train/val folders for the data loader to use\n",
        "# The Data Loader will look for sub folders that hold this data\n",
        "#!unzip /content/drive/MyDrive/Colab\\ Notebooks/div2k/val/DIV2K_valid_HR.zip\n",
        "#!unzip /content/drive/MyDrive/Colab\\ Notebooks/div2k/train/DIV2K_train_HR.zip"
      ],
      "execution_count": null,
      "outputs": []
    },
    {
      "cell_type": "code",
      "metadata": {
        "colab": {
          "base_uri": "https://localhost:8080/"
        },
        "id": "uNauHt0ooejQ",
        "outputId": "2baa55ea-2541-4d73-f7bb-6f670f0ba3ab"
      },
      "source": [
        "from steganogan import SteganoGAN\n",
        "import numpy as np\n",
        "import os\n",
        "from steganogan.loader import DataLoader\n",
        "from steganogan.encoders import BasicEncoder\n",
        "from steganogan.decoders import BasicDecoder\n",
        "from steganogan.critics import BasicCritic\n",
        "\n",
        "svp = '/content/drive/MyDrive/Colab Notebooks/div2k/val/'\n",
        "tp = '/content/drive/MyDrive/Colab Notebooks/div2k/train/'\n",
        "# train = DataLoader(tp, limit=np.inf, shuffle=True, batch_size=4)\n",
        "train = DataLoader(tp, limit=400, shuffle=True, batch_size=1) # half the dataset\n",
        "#validation = DataLoader(svp, limit=np.inf, shuffle=True, batch_size=4)\n",
        "validation = DataLoader(svp, limit=np.inf, shuffle=True, batch_size=1) # half the dataset\n",
        "steganogan = SteganoGAN(1, BasicEncoder, BasicDecoder, BasicCritic, hidden_size=16, cuda=True, verbose=True)\n",
        "\n",
        "steganogan.fit(train, validation, epochs=10)\n",
        "steganogan.save('demo.steg')"
      ],
      "execution_count": null,
      "outputs": [
        {
          "output_type": "stream",
          "text": [
            "\r  0%|          | 0/400 [00:00<?, ?it/s]"
          ],
          "name": "stderr"
        },
        {
          "output_type": "stream",
          "text": [
            "Using CUDA device\n",
            "Epoch 1/10\n"
          ],
          "name": "stdout"
        },
        {
          "output_type": "stream",
          "text": [
            "100%|██████████| 400/400 [00:51<00:00,  7.70it/s]\n",
            "100%|██████████| 400/400 [00:52<00:00,  7.62it/s]\n",
            "100%|██████████| 100/100 [00:13<00:00,  7.19it/s]\n",
            "  0%|          | 0/400 [00:00<?, ?it/s]"
          ],
          "name": "stderr"
        },
        {
          "output_type": "stream",
          "text": [
            "Epoch 2/10\n"
          ],
          "name": "stdout"
        },
        {
          "output_type": "stream",
          "text": [
            "100%|██████████| 400/400 [00:53<00:00,  7.53it/s]\n",
            "100%|██████████| 400/400 [00:54<00:00,  7.41it/s]\n",
            "100%|██████████| 100/100 [00:14<00:00,  7.00it/s]\n",
            "  0%|          | 0/400 [00:00<?, ?it/s]"
          ],
          "name": "stderr"
        },
        {
          "output_type": "stream",
          "text": [
            "Epoch 3/10\n"
          ],
          "name": "stdout"
        },
        {
          "output_type": "stream",
          "text": [
            "100%|██████████| 400/400 [00:53<00:00,  7.47it/s]\n",
            "100%|██████████| 400/400 [00:53<00:00,  7.42it/s]\n",
            "100%|██████████| 100/100 [00:14<00:00,  6.99it/s]\n",
            "  0%|          | 0/400 [00:00<?, ?it/s]"
          ],
          "name": "stderr"
        },
        {
          "output_type": "stream",
          "text": [
            "Epoch 4/10\n"
          ],
          "name": "stdout"
        },
        {
          "output_type": "stream",
          "text": [
            "100%|██████████| 400/400 [00:53<00:00,  7.55it/s]\n",
            "100%|██████████| 400/400 [00:53<00:00,  7.43it/s]\n",
            "100%|██████████| 100/100 [00:14<00:00,  7.05it/s]\n",
            "  0%|          | 0/400 [00:00<?, ?it/s]"
          ],
          "name": "stderr"
        },
        {
          "output_type": "stream",
          "text": [
            "Epoch 5/10\n"
          ],
          "name": "stdout"
        },
        {
          "output_type": "stream",
          "text": [
            "100%|██████████| 400/400 [00:53<00:00,  7.53it/s]\n",
            "100%|██████████| 400/400 [00:53<00:00,  7.45it/s]\n",
            "100%|██████████| 100/100 [00:14<00:00,  7.14it/s]\n",
            "  0%|          | 0/400 [00:00<?, ?it/s]"
          ],
          "name": "stderr"
        },
        {
          "output_type": "stream",
          "text": [
            "Epoch 6/10\n"
          ],
          "name": "stdout"
        },
        {
          "output_type": "stream",
          "text": [
            "100%|██████████| 400/400 [00:53<00:00,  7.51it/s]\n",
            "100%|██████████| 400/400 [00:53<00:00,  7.48it/s]\n",
            "100%|██████████| 100/100 [00:14<00:00,  6.98it/s]\n",
            "  0%|          | 0/400 [00:00<?, ?it/s]"
          ],
          "name": "stderr"
        },
        {
          "output_type": "stream",
          "text": [
            "Epoch 7/10\n"
          ],
          "name": "stdout"
        },
        {
          "output_type": "stream",
          "text": [
            "100%|██████████| 400/400 [00:53<00:00,  7.48it/s]\n",
            "100%|██████████| 400/400 [00:53<00:00,  7.46it/s]\n",
            "100%|██████████| 100/100 [00:14<00:00,  6.94it/s]\n",
            "  0%|          | 0/400 [00:00<?, ?it/s]"
          ],
          "name": "stderr"
        },
        {
          "output_type": "stream",
          "text": [
            "Epoch 8/10\n"
          ],
          "name": "stdout"
        },
        {
          "output_type": "stream",
          "text": [
            "100%|██████████| 400/400 [00:52<00:00,  7.58it/s]\n",
            "100%|██████████| 400/400 [00:53<00:00,  7.44it/s]\n",
            "100%|██████████| 100/100 [00:14<00:00,  6.96it/s]\n",
            "  0%|          | 0/400 [00:00<?, ?it/s]"
          ],
          "name": "stderr"
        },
        {
          "output_type": "stream",
          "text": [
            "Epoch 9/10\n"
          ],
          "name": "stdout"
        },
        {
          "output_type": "stream",
          "text": [
            "100%|██████████| 400/400 [00:53<00:00,  7.52it/s]\n",
            " 33%|███▎      | 131/400 [00:19<00:37,  7.25it/s]"
          ],
          "name": "stderr"
        }
      ]
    },
    {
      "cell_type": "code",
      "metadata": {
        "id": "pevPWR7Wp00u"
      },
      "source": [
        "# With hidden size = 32:\n",
        "# Took 29m49s to fit batch size = 4, epochs = 10\n",
        "# 31m50s b = 3 epochs = 10\n",
        "# 36m9s b = 2 epochs = 10\n",
        "# '   ' b = 1 epochs = 10\n",
        "\n",
        "# With hidden size = 32:\n",
        "# Took 26m29s to fit batch size = 4 epochs = 10"
      ],
      "execution_count": 5,
      "outputs": []
    },
    {
      "cell_type": "code",
      "metadata": {
        "colab": {
          "base_uri": "https://localhost:8080/"
        },
        "id": "lc073ISEgN9q",
        "outputId": "6d56c9d5-7ba7-4f33-c2fc-240cc21c5d93"
      },
      "source": [
        "# Load the model\n",
        "steganogan = SteganoGAN.load(architecture='basic', path=None, cuda=True, verbose=True)\n"
      ],
      "execution_count": 21,
      "outputs": [
        {
          "output_type": "stream",
          "text": [
            "Using CUDA device\n"
          ],
          "name": "stdout"
        },
        {
          "output_type": "stream",
          "text": [
            "/usr/local/lib/python3.7/dist-packages/torch/serialization.py:434: SourceChangeWarning: source code of class 'steganogan.encoders.BasicEncoder' has changed. you can retrieve the original source code by accessing the object's source attribute or set `torch.nn.Module.dump_patches = True` and use the patch tool to revert the changes.\n",
            "  warnings.warn(msg, SourceChangeWarning)\n",
            "/usr/local/lib/python3.7/dist-packages/torch/serialization.py:434: SourceChangeWarning: source code of class 'steganogan.decoders.DenseDecoder' has changed. you can retrieve the original source code by accessing the object's source attribute or set `torch.nn.Module.dump_patches = True` and use the patch tool to revert the changes.\n",
            "  warnings.warn(msg, SourceChangeWarning)\n",
            "/usr/local/lib/python3.7/dist-packages/torch/serialization.py:434: SourceChangeWarning: source code of class 'steganogan.critics.BasicCritic' has changed. you can retrieve the original source code by accessing the object's source attribute or set `torch.nn.Module.dump_patches = True` and use the patch tool to revert the changes.\n",
            "  warnings.warn(msg, SourceChangeWarning)\n"
          ],
          "name": "stderr"
        }
      ]
    },
    {
      "cell_type": "code",
      "metadata": {
        "colab": {
          "base_uri": "https://localhost:8080/"
        },
        "id": "IWxPKiL-gfxJ",
        "outputId": "ca96dd15-56c6-44e0-8296-16aa5230736b"
      },
      "source": [
        "# Encode a message in input.png\n",
        "steganogan.encode('/content/drive/MyDrive/Colab Notebooks/div2k/input.png', '/content/drive/MyDrive/Colab Notebooks/div2k/output.png', 'This is my chicken Shelly!')"
      ],
      "execution_count": 23,
      "outputs": [
        {
          "output_type": "stream",
          "text": [
            "Encoding completed.\n"
          ],
          "name": "stdout"
        }
      ]
    },
    {
      "cell_type": "code",
      "metadata": {
        "colab": {
          "base_uri": "https://localhost:8080/",
          "height": 341
        },
        "id": "OOL5uYlhi0AD",
        "outputId": "5dea3232-35dd-4d52-8cdb-18ed4e79f0e9"
      },
      "source": [
        "# Decode the message from output.png\n",
        "\n",
        "# With hidden size = 32\n",
        "# With b = 4\n",
        "# Got Error: RuntimeError: CUDA out of memory. \n",
        "# Tried to allocate 4.36 GiB (GPU 0; 15.78 GiB total capacity; \n",
        "# 13.22 GiB already allocated; 1.31 GiB free; 248.28 MiB cached)\n",
        "# I think I might have to use a smaller batch size\n",
        "\n",
        "# With b = 3\n",
        "# RuntimeError: CUDA out of memory. Tried to allocate 1.45 GiB (GPU 0; \n",
        "# 15.78 GiB total capacity; 13.72 GiB already allocated; 982.75 MiB free; 95.55 MiB cached)\n",
        "\n",
        "# With b = 2\n",
        "# RuntimeError: CUDA out of memory. Tried to allocate 4.36 GiB (GPU 0; \n",
        "# 15.78 GiB total capacity; 13.36 GiB already allocated; 1.19 GiB free; 234.17 MiB cached)\n",
        "\n",
        "# With b = 1\n",
        "# RuntimeError: CUDA out of memory. Tried to allocate 4.36 GiB (GPU 0; \n",
        "# 15.90 GiB total capacity; 13.22 GiB already allocated; 1.75 GiB free; 234.49 MiB cached)\n",
        "\n",
        "# With hidden size = 16\n",
        "# RuntimeError: CUDA out of memory. Tried to allocate 139.62 MiB (GPU 0; \n",
        "# 15.90 GiB total capacity; 15.04 GiB already allocated; 65.75 MiB free; 94.55 MiB cached)\n",
        "\n",
        "# Hidden size = 32, Half dataset, b = 4\n",
        "# RuntimeError: CUDA out of memory. Tried to allocate 4.36 GiB (GPU 0; \n",
        "# 15.90 GiB total capacity; 13.22 GiB already allocated; 1.75 GiB free; 234.17 MiB cached)\n",
        "\n",
        "# Hidden size = 16, Half dataset, b = 4\n",
        "# RuntimeError: CUDA out of memory. Tried to allocate 4.36 GiB (GPU 0; \n",
        "# 15.90 GiB total capacity; 13.22 GiB already allocated; 1.75 GiB free; 233.49 MiB cached)\n",
        "\n",
        "img_path = '/content/drive/MyDrive/Colab Notebooks/div2k/output.png'\n",
        "steganogan.decode(img_path)\n"
      ],
      "execution_count": 24,
      "outputs": [
        {
          "output_type": "error",
          "ename": "RuntimeError",
          "evalue": "ignored",
          "traceback": [
            "\u001b[0;31m---------------------------------------------------------------------------\u001b[0m",
            "\u001b[0;31mRuntimeError\u001b[0m                              Traceback (most recent call last)",
            "\u001b[0;32m<ipython-input-24-9be275c76c7b>\u001b[0m in \u001b[0;36m<module>\u001b[0;34m()\u001b[0m\n\u001b[1;32m     31\u001b[0m \u001b[0;34m\u001b[0m\u001b[0m\n\u001b[1;32m     32\u001b[0m \u001b[0mimg_path\u001b[0m \u001b[0;34m=\u001b[0m \u001b[0;34m'/content/drive/MyDrive/Colab Notebooks/div2k/output.png'\u001b[0m\u001b[0;34m\u001b[0m\u001b[0;34m\u001b[0m\u001b[0m\n\u001b[0;32m---> 33\u001b[0;31m \u001b[0msteganogan\u001b[0m\u001b[0;34m.\u001b[0m\u001b[0mdecode\u001b[0m\u001b[0;34m(\u001b[0m\u001b[0mimg_path\u001b[0m\u001b[0;34m)\u001b[0m\u001b[0;34m\u001b[0m\u001b[0;34m\u001b[0m\u001b[0m\n\u001b[0m",
            "\u001b[0;32m/usr/local/lib/python3.7/dist-packages/steganogan/models.py\u001b[0m in \u001b[0;36mdecode\u001b[0;34m(self, image)\u001b[0m\n\u001b[1;32m    320\u001b[0m         \u001b[0mimage\u001b[0m \u001b[0;34m=\u001b[0m \u001b[0mimage\u001b[0m\u001b[0;34m.\u001b[0m\u001b[0mto\u001b[0m\u001b[0;34m(\u001b[0m\u001b[0mself\u001b[0m\u001b[0;34m.\u001b[0m\u001b[0mdevice\u001b[0m\u001b[0;34m)\u001b[0m\u001b[0;34m\u001b[0m\u001b[0;34m\u001b[0m\u001b[0m\n\u001b[1;32m    321\u001b[0m \u001b[0;34m\u001b[0m\u001b[0m\n\u001b[0;32m--> 322\u001b[0;31m         \u001b[0mimage\u001b[0m \u001b[0;34m=\u001b[0m \u001b[0mself\u001b[0m\u001b[0;34m.\u001b[0m\u001b[0mdecoder\u001b[0m\u001b[0;34m(\u001b[0m\u001b[0mimage\u001b[0m\u001b[0;34m)\u001b[0m\u001b[0;34m.\u001b[0m\u001b[0mview\u001b[0m\u001b[0;34m(\u001b[0m\u001b[0;34m-\u001b[0m\u001b[0;36m1\u001b[0m\u001b[0;34m)\u001b[0m \u001b[0;34m>\u001b[0m \u001b[0;36m0\u001b[0m\u001b[0;34m\u001b[0m\u001b[0;34m\u001b[0m\u001b[0m\n\u001b[0m\u001b[1;32m    323\u001b[0m \u001b[0;34m\u001b[0m\u001b[0m\n\u001b[1;32m    324\u001b[0m         \u001b[0;31m# split and decode messages\u001b[0m\u001b[0;34m\u001b[0m\u001b[0;34m\u001b[0m\u001b[0;34m\u001b[0m\u001b[0m\n",
            "\u001b[0;32m/usr/local/lib/python3.7/dist-packages/torch/nn/modules/module.py\u001b[0m in \u001b[0;36m__call__\u001b[0;34m(self, *input, **kwargs)\u001b[0m\n\u001b[1;32m    487\u001b[0m             \u001b[0mresult\u001b[0m \u001b[0;34m=\u001b[0m \u001b[0mself\u001b[0m\u001b[0;34m.\u001b[0m\u001b[0m_slow_forward\u001b[0m\u001b[0;34m(\u001b[0m\u001b[0;34m*\u001b[0m\u001b[0minput\u001b[0m\u001b[0;34m,\u001b[0m \u001b[0;34m**\u001b[0m\u001b[0mkwargs\u001b[0m\u001b[0;34m)\u001b[0m\u001b[0;34m\u001b[0m\u001b[0;34m\u001b[0m\u001b[0m\n\u001b[1;32m    488\u001b[0m         \u001b[0;32melse\u001b[0m\u001b[0;34m:\u001b[0m\u001b[0;34m\u001b[0m\u001b[0;34m\u001b[0m\u001b[0m\n\u001b[0;32m--> 489\u001b[0;31m             \u001b[0mresult\u001b[0m \u001b[0;34m=\u001b[0m \u001b[0mself\u001b[0m\u001b[0;34m.\u001b[0m\u001b[0mforward\u001b[0m\u001b[0;34m(\u001b[0m\u001b[0;34m*\u001b[0m\u001b[0minput\u001b[0m\u001b[0;34m,\u001b[0m \u001b[0;34m**\u001b[0m\u001b[0mkwargs\u001b[0m\u001b[0;34m)\u001b[0m\u001b[0;34m\u001b[0m\u001b[0;34m\u001b[0m\u001b[0m\n\u001b[0m\u001b[1;32m    490\u001b[0m         \u001b[0;32mfor\u001b[0m \u001b[0mhook\u001b[0m \u001b[0;32min\u001b[0m \u001b[0mself\u001b[0m\u001b[0;34m.\u001b[0m\u001b[0m_forward_hooks\u001b[0m\u001b[0;34m.\u001b[0m\u001b[0mvalues\u001b[0m\u001b[0;34m(\u001b[0m\u001b[0;34m)\u001b[0m\u001b[0;34m:\u001b[0m\u001b[0;34m\u001b[0m\u001b[0;34m\u001b[0m\u001b[0m\n\u001b[1;32m    491\u001b[0m             \u001b[0mhook_result\u001b[0m \u001b[0;34m=\u001b[0m \u001b[0mhook\u001b[0m\u001b[0;34m(\u001b[0m\u001b[0mself\u001b[0m\u001b[0;34m,\u001b[0m \u001b[0minput\u001b[0m\u001b[0;34m,\u001b[0m \u001b[0mresult\u001b[0m\u001b[0;34m)\u001b[0m\u001b[0;34m\u001b[0m\u001b[0;34m\u001b[0m\u001b[0m\n",
            "\u001b[0;32m/usr/local/lib/python3.7/dist-packages/steganogan/decoders.py\u001b[0m in \u001b[0;36mforward\u001b[0;34m(self, x)\u001b[0m\n\u001b[1;32m     63\u001b[0m             \u001b[0mx_list\u001b[0m \u001b[0;34m=\u001b[0m \u001b[0;34m[\u001b[0m\u001b[0mx\u001b[0m\u001b[0;34m]\u001b[0m\u001b[0;34m\u001b[0m\u001b[0;34m\u001b[0m\u001b[0m\n\u001b[1;32m     64\u001b[0m             \u001b[0;32mfor\u001b[0m \u001b[0mlayer\u001b[0m \u001b[0;32min\u001b[0m \u001b[0mself\u001b[0m\u001b[0;34m.\u001b[0m\u001b[0m_models\u001b[0m\u001b[0;34m[\u001b[0m\u001b[0;36m1\u001b[0m\u001b[0;34m:\u001b[0m\u001b[0;34m]\u001b[0m\u001b[0;34m:\u001b[0m\u001b[0;34m\u001b[0m\u001b[0;34m\u001b[0m\u001b[0m\n\u001b[0;32m---> 65\u001b[0;31m                 \u001b[0mx\u001b[0m \u001b[0;34m=\u001b[0m \u001b[0mlayer\u001b[0m\u001b[0;34m(\u001b[0m\u001b[0mtorch\u001b[0m\u001b[0;34m.\u001b[0m\u001b[0mcat\u001b[0m\u001b[0;34m(\u001b[0m\u001b[0mx_list\u001b[0m\u001b[0;34m,\u001b[0m \u001b[0mdim\u001b[0m\u001b[0;34m=\u001b[0m\u001b[0;36m1\u001b[0m\u001b[0;34m)\u001b[0m\u001b[0;34m)\u001b[0m\u001b[0;34m\u001b[0m\u001b[0;34m\u001b[0m\u001b[0m\n\u001b[0m\u001b[1;32m     66\u001b[0m                 \u001b[0mx_list\u001b[0m\u001b[0;34m.\u001b[0m\u001b[0mappend\u001b[0m\u001b[0;34m(\u001b[0m\u001b[0mx\u001b[0m\u001b[0;34m)\u001b[0m\u001b[0;34m\u001b[0m\u001b[0;34m\u001b[0m\u001b[0m\n\u001b[1;32m     67\u001b[0m \u001b[0;34m\u001b[0m\u001b[0m\n",
            "\u001b[0;31mRuntimeError\u001b[0m: CUDA out of memory. Tried to allocate 4.36 GiB (GPU 0; 15.90 GiB total capacity; 13.22 GiB already allocated; 1.75 GiB free; 233.49 MiB cached)"
          ]
        }
      ]
    },
    {
      "cell_type": "code",
      "metadata": {
        "id": "efpEwRLDi700"
      },
      "source": [
        ""
      ],
      "execution_count": null,
      "outputs": []
    }
  ]
}